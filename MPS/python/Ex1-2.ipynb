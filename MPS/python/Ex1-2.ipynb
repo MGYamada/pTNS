{
 "cells": [
  {
   "cell_type": "markdown",
   "metadata": {},
   "source": [
    "# Sample code for exercise 1-2\n",
    "2017 Aug. Tsuyoshi Okubo  \n",
    "2018 Dec. modified\n",
    "\n",
    "In this code, you can simulate SVD(Schmidt decomposition) of the ground state of spin model on 1d chain.  \n",
    "$$\\mathcal{H} = \\sum_{i} J_z S_{i,z}S_{i+1,z} + J_{xy} (S_{i,x}S_{i+1,x} + S_{i,y}S_{i+1,y}) - h_x \\sum_i S_{i,x} + D\\sum_i S_{i,z}^2$$\n",
    "\n",
    "You can change   \n",
    "\n",
    "- N: # of sites\n",
    "- m: size of spin  (2S = 2m + 1)  \n",
    "- Jz: amplitude of SzSz interaction  \n",
    "- Jxy: amplitude of SxSx + SySy interaction  \n",
    "- hx : amplitude of external field alogn x direction  \n",
    "- D : Single ion anisotropy  \n",
    "- periodic: Flag for periodic boundary condition  "
   ]
  },
  {
   "cell_type": "code",
   "execution_count": 1,
   "metadata": {},
   "outputs": [],
   "source": [
    "import numpy as np\n",
    "import scipy.linalg as linalg\n",
    "from matplotlib import pyplot\n",
    "import ED "
   ]
  },
  {
   "cell_type": "code",
   "execution_count": 2,
   "metadata": {},
   "outputs": [],
   "source": [
    "N=10          ## Chain length \n",
    "m = 3         ## m = 2S + 1, e.g. m=3 for S=1 \n",
    "Jz = 1.0      ## Jz for SzSz interaction\n",
    "Jxy = 1.0     ## Jxy for SxSx + SySy interaction\n",
    "hx = 0.0      ## external field along x direction\n",
    "D = 0.0       ## single ion anisotropy\n",
    "periodic = False ## periodic boundasry condition"
   ]
  },
  {
   "cell_type": "code",
   "execution_count": 3,
   "metadata": {},
   "outputs": [
    {
     "name": "stdout",
     "output_type": "stream",
     "text": [
      "2S = m - 1, N-site spin chain\n",
      "N = 10\n",
      "m = 3\n",
      "Hamiltonian parameters:\n",
      "Jz = 1.0\n",
      "Jxy = 1.0\n",
      "hx = 0.0\n",
      "D = 0.0\n",
      "periodic = False\n"
     ]
    }
   ],
   "source": [
    "print(\"2S = m - 1, N-site spin chain\")\n",
    "print(\"N = \"+repr(N))\n",
    "print(\"m = \"+repr(m))\n",
    "print(\"Hamiltonian parameters:\")\n",
    "print(\"Jz = \"+repr(Jz))\n",
    "print(\"Jxy = \"+repr(Jxy))\n",
    "print(\"hx = \"+repr(hx))\n",
    "print(\"D = \"+repr(D))\n",
    "print(\"periodic = \"+repr(periodic))\n"
   ]
  },
  {
   "cell_type": "code",
   "execution_count": 4,
   "metadata": {},
   "outputs": [
    {
     "name": "stdout",
     "output_type": "stream",
     "text": [
      "Ground state energy per bond= -1.4327289035789932\n"
     ]
    }
   ],
   "source": [
    "## Obtain the smallest eigenvalue\n",
    "eig_val,eig_vec = ED.Calc_GS(m,Jz, Jxy,hx,D,N,k=1,periodic=periodic)\n",
    "if periodic :\n",
    "    print(\"Ground state energy per bond= \" +repr(eig_val[0]/N))\n",
    "else:\n",
    "    print(\"Ground state energy per bond= \" +repr(eig_val[0]/(N-1)))\n"
   ]
  },
  {
   "cell_type": "code",
   "execution_count": 5,
   "metadata": {},
   "outputs": [],
   "source": [
    "## Make matrix from wave function\n",
    "Mat = eig_vec[:,0].reshape(m**int(N/2),m**(N-int(N/2)))\n",
    "\n",
    "## SVD\n",
    "U,s,VT = linalg.svd(Mat,full_matrices=False)"
   ]
  },
  {
   "cell_type": "code",
   "execution_count": 6,
   "metadata": {},
   "outputs": [
    {
     "name": "stdout",
     "output_type": "stream",
     "text": [
      "normalization = 0.9999999999999987\n",
      "Entanglement entropy = 1.2891127980407557\n"
     ]
    }
   ],
   "source": [
    "## Entanglement entropy\n",
    "EE = -np.sum(s**2*np.log(s**2))\n",
    "print(\"normalization = \"+ repr(np.sum(s**2)))\n",
    "\n",
    "s /=np.sqrt(np.sum(s**2))\n",
    "EE = -np.sum(s**2*np.log(s**2))\n",
    "print(\"Entanglement entropy = \" + repr(EE))"
   ]
  },
  {
   "cell_type": "code",
   "execution_count": 7,
   "metadata": {},
   "outputs": [
    {
     "data": {
      "image/png": "[encoded data removed]",
      "text/plain": [
       "<matplotlib.figure.Figure at 0x10c2e3c90>"
      ]
     },
     "metadata": {},
     "output_type": "display_data"
    }
   ],
   "source": [
    "## plot singular values\n",
    "pyplot.title(repr(N)+\" sites spin chain\")\n",
    "pyplot.plot(np.arange(m**(N/2)),s,\"o\")\n",
    "pyplot.xlabel(\"index\")\n",
    "pyplot.ylabel(\"sigular value\")\n",
    "pyplot.yscale(\"log\")\n",
    "pyplot.show()\n"
   ]
  }
 ],
 "metadata": {
  "kernelspec": {
   "display_name": "Python 2",
   "language": "python",
   "name": "python2"
  },
  "language_info": {
   "codemirror_mode": {
    "name": "ipython",
    "version": 2
   },
   "file_extension": ".py",
   "mimetype": "text/x-python",
   "name": "python",
   "nbconvert_exporter": "python",
   "pygments_lexer": "ipython2",
   "version": "2.7.14"
  }
 },
 "nbformat": 4,
 "nbformat_minor": 2
}
