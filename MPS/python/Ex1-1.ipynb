{
 "cells": [
  {
   "cell_type": "markdown",
   "metadata": {},
   "source": [
    "# Sample code for exercise 1-1\n",
    "2017 Aug. Tsuyoshi Okubo  \n",
    "2018 Dec. modified\n",
    "\n",
    "In this code, you can simulate SVD(Schmidt decomposition) of random vector with m^N dimension.  \n",
    "You can change   \n",
    "- N: # of sites   \n",
    "- m: size of spin  \n",
    "\n",
    "(In this case, these variable just mean the size of Hilbert space and no relation to spin system.)  "
   ]
  },
  {
   "cell_type": "code",
   "execution_count": 1,
   "metadata": {},
   "outputs": [],
   "source": [
    "import numpy as np\n",
    "import scipy.linalg as linalg\n",
    "from matplotlib import pyplot"
   ]
  },
  {
   "cell_type": "code",
   "execution_count": 2,
   "metadata": {},
   "outputs": [],
   "source": [
    "N=10          ## Chain length \n",
    "m = 3         ## m = 2S + 1, e.g. m=3 for S=1 "
   ]
  },
  {
   "cell_type": "code",
   "execution_count": 3,
   "metadata": {},
   "outputs": [],
   "source": [
    "## make random complex vector\n",
    "vec = (np.random.rand(m**N)-0.5) + 1.0j * (np.random.rand(m**N)-0.5)\n",
    "\n",
    "## Make matrix from wave function\n",
    "Mat = vec[:].reshape(m**(int(N/2)),m**(N-int(N/2)))\n",
    "\n",
    "## SVD\n",
    "U,s,VT = linalg.svd(Mat,full_matrices=False)"
   ]
  },
  {
   "cell_type": "code",
   "execution_count": 4,
   "metadata": {},
   "outputs": [
    {
     "name": "stdout",
     "output_type": "stream",
     "text": [
      "normalization = 9806.293426762051\n",
      "Entanglement entropy = 4.991423546751792\n"
     ]
    }
   ],
   "source": [
    "## Entanglement entropy\n",
    "EE = -np.sum(s**2*np.log(s**2))\n",
    "print(\"normalization = \"+ repr(np.sum(s**2)))\n",
    "\n",
    "s /=np.sqrt(np.sum(s**2))\n",
    "EE = -np.sum(s**2*np.log(s**2))\n",
    "print(\"Entanglement entropy = \" + repr(EE))"
   ]
  },
  {
   "cell_type": "code",
   "execution_count": 5,
   "metadata": {},
   "outputs": [
    {
     "data": {
      "image/png": "[encoded data removed]",
      "text/plain": [
       "<matplotlib.figure.Figure at 0x10bfb8d90>"
      ]
     },
     "metadata": {},
     "output_type": "display_data"
    }
   ],
   "source": [
    "## plot singular values\n",
    "pyplot.title(repr(N)+\" sites random vector\")\n",
    "pyplot.plot(np.arange(m**(N/2)),s,\"o\")\n",
    "pyplot.xlabel(\"index\")\n",
    "pyplot.ylabel(\"sigular value\")\n",
    "pyplot.yscale(\"log\")\n",
    "pyplot.show()\n"
   ]
  }
 ],
 "metadata": {
  "kernelspec": {
   "display_name": "Python 2",
   "language": "python",
   "name": "python2"
  },
  "language_info": {
   "codemirror_mode": {
    "name": "ipython",
    "version": 2
   },
   "file_extension": ".py",
   "mimetype": "text/x-python",
   "name": "python",
   "nbconvert_exporter": "python",
   "pygments_lexer": "ipython2",
   "version": "2.7.14"
  }
 },
 "nbformat": 4,
 "nbformat_minor": 2
}
