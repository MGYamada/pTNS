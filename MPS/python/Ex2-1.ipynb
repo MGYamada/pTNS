{
 "cells": [
  {
   "cell_type": "markdown",
   "metadata": {},
   "source": [
    "# Sample code for exercise 2-1\n",
    "2017 Aug. Tsuyoshi Okubo  \n",
    "2018 Dec. modified\n",
    "\n",
    "In this code, you can simulate MPS decompositionof the ground state of spin model on 1d chain.  \n",
    "$$\\mathcal{H} = \\sum_{i} J_z S_{i,z}S_{i+1,z} + J_{xy} (S_{i,x}S_{i+1,x} + S_{i,y}S_{i+1,y}) - h_x \\sum_i S_{i,x} + D\\sum_i S_{i,z}^2$$\n",
    "\n",
    "Note that, in this exercise, the MPS is exact (no approximation). Thus, the energy calculated from MPS should be same with the ED.  \n",
    "You can change   \n",
    "\n",
    "- N: # of sites\n",
    "- m: size of spin  (2S = 2m + 1)  \n",
    "- Jz: amplitude of SzSz interaction  \n",
    "- Jxy: amplitude of SxSx + SySy interaction  \n",
    "- hx : amplitude of external field alogn x direction  \n",
    "- D : Single ion anisotropy  \n",
    "- (periodic: In this exercize, we only consider open boundary)"
   ]
  },
  {
   "cell_type": "code",
   "execution_count": 1,
   "metadata": {},
   "outputs": [],
   "source": [
    "import numpy as np\n",
    "import scipy.linalg as linalg\n",
    "import ED\n",
    "import TEBD\n",
    "from matplotlib import pyplot"
   ]
  },
  {
   "cell_type": "code",
   "execution_count": 2,
   "metadata": {},
   "outputs": [],
   "source": [
    "N=10          ## Chain length \n",
    "m = 3         ## m = 2S + 1, e.g. m=3 for S=1 \n",
    "Jz = 1.0      ## Jz for SzSz interaction\n",
    "Jxy = 1.0     ## Jxy for SxSx + SySy interaction\n",
    "hx = 0.0      ## external field along x direction\n",
    "D = 0.0       ## single ion anisotropy\n",
    "#periodic = False ## in this exersize , we only consider open boundary"
   ]
  },
  {
   "cell_type": "code",
   "execution_count": 4,
   "metadata": {},
   "outputs": [
    {
     "name": "stdout",
     "output_type": "stream",
     "text": [
      "2S = m - 1, N-site spin chain\n",
      "N = 10\n",
      "m = 3\n",
      "Hamiltonian parameters:\n",
      "Jz = 1.0\n",
      "Jxy = 1.0\n",
      "hx = 0.0\n",
      "D = 0.0\n"
     ]
    }
   ],
   "source": [
    "print(\"2S = m - 1, N-site spin chain\")\n",
    "print(\"N = \"+repr(N))\n",
    "print(\"m = \"+repr(m))\n",
    "print(\"Hamiltonian parameters:\")\n",
    "print(\"Jz = \"+repr(Jz))\n",
    "print(\"Jxy = \"+repr(Jxy))\n",
    "print(\"hx = \"+repr(hx))\n",
    "print(\"D = \"+repr(D))"
   ]
  },
  {
   "cell_type": "code",
   "execution_count": 8,
   "metadata": {},
   "outputs": [
    {
     "name": "stdout",
     "output_type": "stream",
     "text": [
      "Ground state energy per bond= -1.4327289035789958\n"
     ]
    }
   ],
   "source": [
    "## Obtain the smallest eigenvalue\n",
    "eig_val,eig_vec = ED.Calc_GS(m,Jz, Jxy,hx,D,N,k=1)\n",
    "print(\"Ground state energy per bond= \" +repr(eig_val[0]/(N-1)))"
   ]
  },
  {
   "cell_type": "code",
   "execution_count": 9,
   "metadata": {},
   "outputs": [],
   "source": [
    "## Make exact MPS (from \"left\")\n",
    "Tn = []\n",
    "lam = [np.ones((1,))]\n",
    "lam_inv = 1.0/lam[0]\n",
    "R_mat = eig_vec[:,0].reshape(m,m**(N-1))\n",
    "\n",
    "chi_l=1\n",
    "for i in range(N-1):\n",
    "    U,s,VT = linalg.svd(R_mat,full_matrices=False)\n",
    "    chi_r = s.size\n",
    "\n",
    "    Tn.append(np.tensordot(np.diag(lam_inv),U.reshape(chi_l,m,chi_r),(1,0)).transpose(1,0,2))\n",
    "    lam.append(s)\n",
    "    lam_inv = 1.0/s\n",
    "    R_mat = np.dot(np.diag(s),VT).reshape(chi_r*m,m**(N-i-2))\n",
    "    chi_l = chi_r\n",
    "Tn.append(VT.reshape(m,m,1).transpose(1,0,2))\n",
    "lam.append(np.ones((1,)))"
   ]
  },
  {
   "cell_type": "code",
   "execution_count": 12,
   "metadata": {},
   "outputs": [
    {
     "name": "stdout",
     "output_type": "stream",
     "text": [
      "Energy of MPS = -1.4327289035789939\n"
     ]
    }
   ],
   "source": [
    "## Calculate Energy\n",
    "Env_left=[]\n",
    "Env_right=[]\n",
    "for i in range(N):\n",
    "    Env_left.append(np.identity((lam[i].shape[0])))\n",
    "    Env_right.append(np.dot(np.dot(np.diag(lam[i+1]),np.identity((lam[i+1].shape[0]))),np.diag(lam[i+1])))\n",
    "\n",
    "print(\"Energy of MPS = \"+repr(TEBD.Calc_Energy(Env_left,Env_right,Tn,lam,Jz,Jxy,hx,D)))"
   ]
  },
  {
   "cell_type": "code",
   "execution_count": null,
   "metadata": {},
   "outputs": [],
   "source": []
  }
 ],
 "metadata": {
  "kernelspec": {
   "display_name": "Python 2",
   "language": "python",
   "name": "python2"
  },
  "language_info": {
   "codemirror_mode": {
    "name": "ipython",
    "version": 2
   },
   "file_extension": ".py",
   "mimetype": "text/x-python",
   "name": "python",
   "nbconvert_exporter": "python",
   "pygments_lexer": "ipython2",
   "version": "2.7.14"
  }
 },
 "nbformat": 4,
 "nbformat_minor": 2
}
